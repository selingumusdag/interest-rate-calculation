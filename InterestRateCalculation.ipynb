{
 "cells": [
  {
   "cell_type": "code",
   "execution_count": 36,
   "metadata": {
    "scrolled": true
   },
   "outputs": [
    {
     "name": "stdout",
     "output_type": "stream",
     "text": [
      "Hafta basinda 1000 dolarlik bitcoin aldigimizda gunde ortalama % 12 kazancla, bir hafta sonunda 1210.68 kazanirdik.\n"
     ]
    }
   ],
   "source": [
    "capital = 1000\n",
    "daily_interest=12\n",
    "days = 7\n",
    "new_capital=capital*(1+daily_interest/100)**days\n",
    "print (\"Hafta basinda\",capital, \"dolarlik bitcoin aldigimizda gunde ortalama %\",daily_interest,\"kazancla, bir hafta sonunda {:.2f}\".format(new_capital-capital), \"kazanirdik.\")"
   ]
  },
  {
   "cell_type": "code",
   "execution_count": 39,
   "metadata": {
    "scrolled": true
   },
   "outputs": [
    {
     "name": "stdout",
     "output_type": "stream",
     "text": [
      "Dosya adi giriniz:aa\n",
      "aa.py\n"
     ]
    }
   ],
   "source": [
    "file= input('Dosya adi giriniz:')\n",
    "print(file,'.py',sep=\"\")"
   ]
  }
 ],
 "metadata": {
  "kernelspec": {
   "display_name": "Python 3",
   "language": "python",
   "name": "python3"
  },
  "language_info": {
   "codemirror_mode": {
    "name": "ipython",
    "version": 3
   },
   "file_extension": ".py",
   "mimetype": "text/x-python",
   "name": "python",
   "nbconvert_exporter": "python",
   "pygments_lexer": "ipython3",
   "version": "3.8.0"
  }
 },
 "nbformat": 4,
 "nbformat_minor": 4
}
